{
 "cells": [
  {
   "cell_type": "code",
   "execution_count": null,
   "metadata": {},
   "outputs": [],
   "source": [
    "from langchain_community.document_loaders import PyPDFLoader\n",
    "from langchain_text_splitters import RecursiveCharacterTextSplitter\n",
    "from langchain_google_vertexai import VertexAIEmbeddings\n",
    "#from langchain.vectorstores import Chroma\n",
    "#from langchain_community.vectorstores import Chroma\n",
    "from langchain_chroma import Chroma  \n"
   ]
  },
  {
   "cell_type": "code",
   "execution_count": 2,
   "metadata": {},
   "outputs": [
    {
     "name": "stdout",
     "output_type": "stream",
     "text": [
      "Loaded 84 chunks from the PDF\n"
     ]
    }
   ],
   "source": [
    "pdf_path = \"Testpaper.pdf\"\n",
    "loader = PyPDFLoader(pdf_path)\n",
    "pages = loader.load()\n",
    "\n",
    "splitter = RecursiveCharacterTextSplitter(\n",
    "    chunk_size=1000,\n",
    "    chunk_overlap=200,\n",
    ")\n",
    "splitted_pages = splitter.split_documents(pages)\n",
    "\n",
    "print(f\"Loaded {len(splitted_pages)} chunks from the PDF\")"
   ]
  },
  {
   "cell_type": "code",
   "execution_count": 3,
   "metadata": {},
   "outputs": [
    {
     "name": "stdout",
     "output_type": "stream",
     "text": [
      "Generated 84 embeddings\n"
     ]
    }
   ],
   "source": [
    "from langchain_community.embeddings import HuggingFaceEmbeddings\n",
    "import os\n",
    "\n",
    "os.environ[\"GOOGLE_APPLICATION_CREDENTIALS\"]=\"./nih-cl-cm500-nchermak-2ba6-c06ffadeffcb.json\"\n",
    "#embedding_model = HuggingFaceEmbeddings(model_name=\"sentence-transformers/all-MiniLM-L6-v2\")\n",
    "\n",
    "embedding_model = VertexAIEmbeddings(model_name=\"text-embedding-004\")\n",
    "\n",
    "embeddings = embedding_model.embed_documents([chunk.page_content for chunk in splitted_pages])\n",
    "\n",
    "print(f\"Generated {len(embeddings)} embeddings\")"
   ]
  },
  {
   "cell_type": "code",
   "execution_count": 4,
   "metadata": {},
   "outputs": [
    {
     "ename": "",
     "evalue": "",
     "output_type": "error",
     "traceback": [
      "\u001b[1;31mThe Kernel crashed while executing code in the current cell or a previous cell. \n",
      "\u001b[1;31mPlease review the code in the cell(s) to identify a possible cause of the failure. \n",
      "\u001b[1;31mClick <a href='https://aka.ms/vscodeJupyterKernelCrash'>here</a> for more info. \n",
      "\u001b[1;31mView Jupyter <a href='command:jupyter.viewOutput'>log</a> for further details."
     ]
    }
   ],
   "source": [
    "from langchain_chroma import Chroma\n",
    "from langchain_google_vertexai import VertexAIEmbeddings  # Ensure this is the correct import\n",
    "\n",
    "# Initialize embedding model\n",
    "embedding_model = VertexAIEmbeddings(model_name=\"text-embedding-004\")\n",
    "\n",
    "# Load documents\n",
    "vector_store = Chroma.from_documents(\n",
    "    documents=splitted_pages, \n",
    "    embedding=embedding_model,  \n",
    "    collection_name=\"pdf_summaries\"\n",
    ")\n",
    "\n",
    "print(\"Stored embeddings in ChromaDB\")"
   ]
  },
  {
   "cell_type": "code",
   "execution_count": 4,
   "metadata": {},
   "outputs": [
    {
     "ename": "",
     "evalue": "",
     "output_type": "error",
     "traceback": [
      "\u001b[1;31mThe Kernel crashed while executing code in the current cell or a previous cell. \n",
      "\u001b[1;31mPlease review the code in the cell(s) to identify a possible cause of the failure. \n",
      "\u001b[1;31mClick <a href='https://aka.ms/vscodeJupyterKernelCrash'>here</a> for more info. \n",
      "\u001b[1;31mView Jupyter <a href='command:jupyter.viewOutput'>log</a> for further details."
     ]
    }
   ],
   "source": [
    "embedding_model = VertexAIEmbeddings(model_name=\"text-embedding-004\")\n",
    "\n",
    "vector_store = Chroma(collection_name=\"pdf_summaries\",\n",
    "                      embedding_function=embedding_model)\n",
    "\n",
    "# Use .from_documents() correctly by calling it as a class method\n",
    "vector_store = Chroma.from_documents(documents=splitted_pages, \n",
    "                                     embedding=embedding_model,\n",
    "                                     collection_name=\"pdf_summaries\")\n",
    "\n",
    "print(\"Stored embeddings in ChromaDB\")\n"
   ]
  },
  {
   "cell_type": "code",
   "execution_count": 4,
   "metadata": {},
   "outputs": [
    {
     "name": "stderr",
     "output_type": "stream",
     "text": [
      "C:\\Users\\nickc\\AppData\\Local\\Temp\\ipykernel_57720\\3350282697.py:1: LangChainDeprecationWarning: The class `Chroma` was deprecated in LangChain 0.2.9 and will be removed in 1.0. An updated version of the class exists in the :class:`~langchain-chroma package and should be used instead. To use it run `pip install -U :class:`~langchain-chroma` and import as `from :class:`~langchain_chroma import Chroma``.\n",
      "  vector_store = Chroma(collection_name=\"pdf_summaries\",\n"
     ]
    },
    {
     "ename": "",
     "evalue": "",
     "output_type": "error",
     "traceback": [
      "\u001b[1;31mThe Kernel crashed while executing code in the current cell or a previous cell. \n",
      "\u001b[1;31mPlease review the code in the cell(s) to identify a possible cause of the failure. \n",
      "\u001b[1;31mClick <a href='https://aka.ms/vscodeJupyterKernelCrash'>here</a> for more info. \n",
      "\u001b[1;31mView Jupyter <a href='command:jupyter.viewOutput'>log</a> for further details."
     ]
    }
   ],
   "source": [
    "vector_store = Chroma(collection_name=\"pdf_summaries\",\n",
    "                      embedding_function=VertexAIEmbeddings(model_name=\"text-embedding-004\"))\n",
    "\n",
    "chroma_docs = vector_store.from_documents(documents=splitted_pages, \n",
    "                                          embedding=VertexAIEmbeddings(model_name=\"text-embedding-004\"))\n",
    "\n",
    "print(\"Stored embeddings in ChromaDB\")"
   ]
  }
 ],
 "metadata": {
  "kernelspec": {
   "display_name": "Python 3",
   "language": "python",
   "name": "python3"
  },
  "language_info": {
   "codemirror_mode": {
    "name": "ipython",
    "version": 3
   },
   "file_extension": ".py",
   "mimetype": "text/x-python",
   "name": "python",
   "nbconvert_exporter": "python",
   "pygments_lexer": "ipython3",
   "version": "3.11.9"
  }
 },
 "nbformat": 4,
 "nbformat_minor": 2
}
